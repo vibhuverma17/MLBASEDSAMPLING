{
  "nbformat": 4,
  "nbformat_minor": 0,
  "metadata": {
    "colab": {
      "provenance": [],
      "authorship_tag": "ABX9TyNXstQypBiDrZ4e48nSyTEt",
      "include_colab_link": true
    },
    "kernelspec": {
      "name": "python3",
      "display_name": "Python 3"
    },
    "language_info": {
      "name": "python"
    }
  },
  "cells": [
    {
      "cell_type": "markdown",
      "metadata": {
        "id": "view-in-github",
        "colab_type": "text"
      },
      "source": [
        "<a href=\"https://colab.research.google.com/github/vibhuverma17/MLBASEDSAMPLING/blob/main/Plotting.ipynb\" target=\"_parent\"><img src=\"https://colab.research.google.com/assets/colab-badge.svg\" alt=\"Open In Colab\"/></a>"
      ]
    },
    {
      "cell_type": "code",
      "execution_count": null,
      "metadata": {
        "id": "1lxVegDEhNft"
      },
      "outputs": [],
      "source": [
        "import pandas as pd\n",
        "import matplotlib.pyplot as plt\n",
        "import seaborn as sns\n",
        "\n",
        "file_path = '/content/Results.xlsx'\n",
        "sheet_name = 'Student Success'\n",
        "\n",
        "df = pd.read_excel(file_path, sheet_name=sheet_name)  # Replace 0 with the sheet name if necessary\n",
        "selected_columns = df[['Test AUC', 'Model Specs', 'Total Time', 'Sampling Time', 'Training Time (seconds)']]\n",
        "sorted_df = selected_columns.sort_values(by='Model Specs')\n",
        "sorted_df"
      ]
    },
    {
      "cell_type": "code",
      "source": [
        "# Set a style for prettier plots\n",
        "sns.set_theme(style=\"whitegrid\")\n",
        "\n",
        "# 1. Sort by Test AUC (high to low)\n",
        "sorted_by_auc = selected_columns.sort_values(by='Test AUC', ascending=False)\n",
        "\n",
        "# Plot Model Specs vs Test AUC (in Blue)\n",
        "plt.figure(figsize=(10, 6))\n",
        "sns.lineplot(data=sorted_by_auc, x='Model Specs', y='Test AUC',\n",
        "             marker='o', color='blue', linestyle='-', markersize=8,\n",
        "             markerfacecolor='none', markeredgewidth=2)\n",
        "plt.title(\"Model Specs vs Test AUC\", fontsize=14)\n",
        "\n",
        "# Concatenate sheet name with \"Model Specs\" for the x-axis label\n",
        "plt.xlabel(f\"{sheet_name} - Model Specs\", fontsize=12)\n",
        "plt.ylabel(\"Test AUC\", fontsize=12)\n",
        "plt.xticks(rotation=90)\n",
        "\n",
        "# Remove horizontal grid lines and make vertical grid lines dotted\n",
        "plt.grid(axis='y', visible=False)  # Remove horizontal grid lines\n",
        "plt.grid(axis='x', linestyle=':', color='gray')  # Make vertical grid lines dotted\n",
        "\n",
        "plt.tight_layout(pad=4.0)  # Adjust the padding to avoid chopping off labels\n",
        "plt.subplots_adjust(bottom=0.2)  # Increase space at the bottom to avoid overlap with x labels\n",
        "plt.show()\n",
        "print()  # Empty line\n",
        "\n",
        "# 2. Sort by Total Training Time (high to low)\n",
        "sorted_by_training_time = selected_columns.sort_values(by='Training Time (seconds)', ascending=False)\n",
        "\n",
        "# Plot Model Specs vs Total Training Time (in Green)\n",
        "plt.figure(figsize=(10, 6))\n",
        "sns.lineplot(data=sorted_by_training_time, x='Model Specs', y='Training Time (seconds)',\n",
        "             marker='o', color='green', linestyle='-', markersize=8,\n",
        "             markerfacecolor='none', markeredgewidth=2)\n",
        "plt.title(\"Model Specs vs Total Training Time\", fontsize=14)\n",
        "\n",
        "# Concatenate sheet name with \"Model Specs\" for the x-axis label\n",
        "plt.xlabel(f\"{sheet_name} - Model Specs\", fontsize=12)\n",
        "plt.ylabel(\"Training Time (seconds)\", fontsize=12)\n",
        "plt.xticks(rotation=90)\n",
        "\n",
        "# Remove horizontal grid lines and make vertical grid lines dotted\n",
        "plt.grid(axis='y', visible=False)  # Remove horizontal grid lines\n",
        "plt.grid(axis='x', linestyle=':', color='gray')  # Make vertical grid lines dotted\n",
        "\n",
        "plt.tight_layout(pad=4.0)  # Adjust the padding to avoid chopping off labels\n",
        "plt.subplots_adjust(bottom=0.2)  # Increase space at the bottom to avoid overlap with x labels\n",
        "plt.show()\n",
        "print()  # Empty line"
      ],
      "metadata": {
        "id": "44qNEvT1jcCJ"
      },
      "execution_count": null,
      "outputs": []
    },
    {
      "cell_type": "code",
      "source": [],
      "metadata": {
        "id": "O9_AViUpktrO"
      },
      "execution_count": null,
      "outputs": []
    }
  ]
}