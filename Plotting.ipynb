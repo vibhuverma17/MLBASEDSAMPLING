{
  "nbformat": 4,
  "nbformat_minor": 0,
  "metadata": {
    "colab": {
      "provenance": [],
      "authorship_tag": "ABX9TyN13YWHS80U4iRrO7piintw",
      "include_colab_link": true
    },
    "kernelspec": {
      "name": "python3",
      "display_name": "Python 3"
    },
    "language_info": {
      "name": "python"
    }
  },
  "cells": [
    {
      "cell_type": "markdown",
      "metadata": {
        "id": "view-in-github",
        "colab_type": "text"
      },
      "source": [
        "<a href=\"https://colab.research.google.com/github/vibhuverma17/MLBASEDSAMPLING/blob/main/Plotting.ipynb\" target=\"_parent\"><img src=\"https://colab.research.google.com/assets/colab-badge.svg\" alt=\"Open In Colab\"/></a>"
      ]
    },
    {
      "cell_type": "code",
      "execution_count": null,
      "metadata": {
        "id": "1lxVegDEhNft"
      },
      "outputs": [],
      "source": [
        "import pandas as pd\n",
        "import matplotlib.pyplot as plt\n",
        "import seaborn as sns\n",
        "import numpy as np\n",
        "\n",
        "file_path = '/content/Results.xlsx'\n",
        "sheet_name = 'Parkinsons'\n",
        "\n",
        "df = pd.read_excel(file_path, sheet_name=sheet_name)  # Replace 0 with the sheet name if necessary\n",
        "selected_columns = df[['Test R2', 'Model Specs', 'Total Time', 'Sampling Time', 'Training Time (seconds)']]\n",
        "\n",
        "selected_columns['Test R2'] = np.where(selected_columns['Test R2'] < 0, 0, selected_columns['Test R2'])\n",
        "\n",
        "selected_columns"
      ]
    },
    {
      "cell_type": "code",
      "source": [
        "# Set a style for prettier plots\n",
        "sns.set_theme(style=\"whitegrid\")\n",
        "\n",
        "# Ask the user for the columns to be plotted\n",
        "print(\"Please choose the metric columns for plotting:\")\n",
        "print(\"Available metrics: Test AUC, Training Time (seconds)\")\n",
        "test_auc_column = input(\"Enter the column name for the Test AUC metric (default: 'Test AUC'): \") or \"Test AUC\"\n",
        "training_time_column = input(\"Enter the column name for the Training Time metric (default: 'Training Time (seconds)'): \") or \"Training Time (seconds)\"\n",
        "\n",
        "# Check if the provided columns exist in the dataset\n",
        "if test_auc_column not in selected_columns.columns or training_time_column not in selected_columns.columns:\n",
        "    print(f\"Error: One or both columns '{test_auc_column}' and '{training_time_column}' do not exist in the dataset.\")\n",
        "else:\n",
        "    # Sort by Test AUC (high to low)\n",
        "    sorted_by_auc = selected_columns.sort_values(by=test_auc_column, ascending=False)\n",
        "\n",
        "    # Sort by Total Training Time (high to low)\n",
        "    sorted_by_training_time = selected_columns.sort_values(by=training_time_column, ascending=False)\n",
        "\n",
        "    # Create a figure and axis\n",
        "    fig, ax1 = plt.subplots(figsize=(10, 6))\n",
        "\n",
        "    # Plot Model Specs vs Test AUC (in Blue) on the left y-axis\n",
        "    sns.lineplot(data=sorted_by_auc, x='Model Specs', y=test_auc_column,\n",
        "                 marker='o', color='blue', linestyle='-', markersize=8,\n",
        "                 markerfacecolor='none', markeredgewidth=2, ax=ax1)\n",
        "    ax1.set_title(\"Model Specs vs Test AUC and Training Time\", fontsize=14)\n",
        "\n",
        "    # Set labels for the left y-axis (Test AUC)\n",
        "    ax1.set_xlabel(f\"{sheet_name} - Model Specs\", fontsize=12)\n",
        "    ax1.set_ylabel(test_auc_column, fontsize=12)\n",
        "    ax1.tick_params(axis='y', labelcolor='blue')\n",
        "    ax1.set_xticklabels(sorted_by_auc['Model Specs'], rotation=90)\n",
        "\n",
        "    # Make vertical grid lines dotted\n",
        "    ax1.grid(axis='x', linestyle=':', color='gray')  # Dotted vertical grid lines\n",
        "\n",
        "    # Create a second y-axis for Training Time\n",
        "    ax2 = ax1.twinx()\n",
        "\n",
        "    # Plot Model Specs vs Total Training Time (in Green) on the right y-axis\n",
        "    sns.lineplot(data=sorted_by_training_time, x='Model Specs', y=training_time_column,\n",
        "                 marker='o', color='green', linestyle='-', markersize=8,\n",
        "                 markerfacecolor='none', markeredgewidth=2, ax=ax2)\n",
        "    ax2.set_ylabel(\"Training Time (seconds)\", fontsize=12)\n",
        "    ax2.tick_params(axis='y', labelcolor='green')\n",
        "\n",
        "    # Remove horizontal grid lines from the second axis\n",
        "    ax2.grid(axis='y', visible=False)  # Remove horizontal grid lines from right y-axis\n",
        "\n",
        "    # Adjust layout and spacing\n",
        "    plt.tight_layout(pad=4.0)  # Adjust the padding to avoid chopping off labels\n",
        "    plt.subplots_adjust(bottom=0.2)  # Increase space at the bottom to avoid overlap with x labels\n",
        "\n",
        "    # Show the plot\n",
        "    plt.show()\n",
        "    print()  # Empty line\n"
      ],
      "metadata": {
        "id": "44qNEvT1jcCJ"
      },
      "execution_count": null,
      "outputs": []
    },
    {
      "cell_type": "code",
      "source": [],
      "metadata": {
        "id": "O9_AViUpktrO"
      },
      "execution_count": null,
      "outputs": []
    }
  ]
}